{
 "cells": [
  {
   "cell_type": "markdown",
   "id": "b6aa3b93",
   "metadata": {},
   "source": [
    "## Configurations"
   ]
  },
  {
   "cell_type": "code",
   "execution_count": null,
   "id": "ebcf4978",
   "metadata": {},
   "outputs": [],
   "source": [
    "from flashtext import KeywordProcessor"
   ]
  },
  {
   "cell_type": "code",
   "execution_count": null,
   "id": "ac048ff6",
   "metadata": {},
   "outputs": [],
   "source": [
    "covid_dataset_seed = \"\""
   ]
  },
  {
   "cell_type": "markdown",
   "id": "e878ed32",
   "metadata": {},
   "source": [
    "## Generate string matching input"
   ]
  },
  {
   "cell_type": "code",
   "execution_count": null,
   "id": "24736be9",
   "metadata": {},
   "outputs": [],
   "source": []
  },
  {
   "cell_type": "markdown",
   "id": "ce70db94",
   "metadata": {},
   "source": [
    "## Match strings with PMC dumps"
   ]
  },
  {
   "cell_type": "code",
   "execution_count": null,
   "id": "12d06f4a",
   "metadata": {},
   "outputs": [],
   "source": [
    "keyword_processor = KeywordProcessor(case_sensitive=True)\n",
    "data_set_count = {}\n",
    "#File which is checked\n",
    "#Do this for all files in dataset-knowledge-graph/string-matching-MAKG-dumps/data\n",
    "with open(\"/File_Checked.txt\", \"r\") as inp:\n",
    "    for line in inp:\n",
    "        data_set_name = line.strip().strip(\"'\").strip('\"')\n",
    "        data_set_name_cleaned = re.sub(r\"[\\(\\)]\", \"\", data_set_name).strip()\n",
    "        data_set_count[data_set_name_cleaned] = 0\n",
    "        keyword_processor.add_keyword(data_set_name_cleaned)\n",
    "        \n"
   ]
  },
  {
   "cell_type": "code",
   "execution_count": null,
   "id": "8fdbe03f",
   "metadata": {},
   "outputs": [],
   "source": [
    "line_count = 1\n",
    "abstract_count = data_set_count.copy()\n",
    "with open(\"/PaperAbstracts_CS_nonPatent.txt\", \"r\") as inp:\n",
    "    with open(\"File_Checked_abstract_matches_CS.txt\", \"w\") as outp:\n",
    "            for line in inp:\n",
    "                print(\"Paper Abstract: \" + str(line_count))\n",
    "                paper_id, abstract = line.strip(\"\\n\").split(\"\\t\")\n",
    "                keywords_found = keyword_processor.extract_keywords(abstract, span_info=True)\n",
    "                if keywords_found:\n",
    "                    for keyword in keywords_found:\n",
    "                        abstract_count[keyword[0]] += 1\n",
    "                        outp.write(\"\\t\".join(map(str, keyword)) + \"\\t\" + \"\\t\".join([paper_id]) + \"\\n\")\n",
    "                line_count += 1\n",
    "with open(\"File_Checked_abstract_count_CS.txt\", \"w\") as outp:\n",
    "    for item in abstract_count:\n",
    "        outp.write(str(item) + \"\\t\" + str(abstract_count[item]) + \"\\n\")\n",
    "\n",
    "\n",
    "line_count = 1\n",
    "citation_context_count = data_set_count.copy()\n",
    "with open(\"/PaperCitationContexts.txt\", \"r\") as inp:\n",
    "    with open(\"File_Checked_citation_matches.txt\", \"w\") as outp:\n",
    "        for line in inp:\n",
    "            print(\"Citation Context: \" + str(line_count))\n",
    "            paper_id, reference_id, citation_context = line.strip(\"\\n\").split(\"\\t\")\n",
    "            keywords_found = keyword_processor.extract_keywords(citation_context, span_info=True)\n",
    "            if keywords_found:\n",
    "                for keyword in keywords_found:\n",
    "                    citation_context_count[keyword[0]] += 1\n",
    "                    outp.write(\"\\t\".join(map(str, keyword)) + \"\\t\" +  \"\\t\".join([paper_id, reference_id, citation_context]) + \"\\n\")\n",
    "            line_count += 1\n",
    "with open(\"File_Checked_citation_count.txt\", \"w\") as outp:\n",
    "    for item in citation_context_count:\n",
    "        outp.write(str(item) + \"\\t\" + str(citation_context_count[item]) + \"\\n\")"
   ]
  }
 ],
 "metadata": {
  "kernelspec": {
   "display_name": "Python 3 (ipykernel)",
   "language": "python",
   "name": "python3"
  },
  "language_info": {
   "codemirror_mode": {
    "name": "ipython",
    "version": 3
   },
   "file_extension": ".py",
   "mimetype": "text/x-python",
   "name": "python",
   "nbconvert_exporter": "python",
   "pygments_lexer": "ipython3",
   "version": "3.7.11"
  }
 },
 "nbformat": 4,
 "nbformat_minor": 5
}
